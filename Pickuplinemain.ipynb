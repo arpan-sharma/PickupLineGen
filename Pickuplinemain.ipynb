{
  "nbformat": 4,
  "nbformat_minor": 0,
  "metadata": {
    "colab": {
      "private_outputs": true,
      "provenance": [],
      "authorship_tag": "ABX9TyMYqJI8+gwxSLcpo1xxaZub",
      "include_colab_link": true
    },
    "kernelspec": {
      "name": "python3",
      "display_name": "Python 3"
    },
    "language_info": {
      "name": "python"
    }
  },
  "cells": [
    {
      "cell_type": "markdown",
      "metadata": {
        "id": "view-in-github",
        "colab_type": "text"
      },
      "source": [
        "<a href=\"https://colab.research.google.com/github/arpan-sharma/PickupLineGen/blob/main/Pickuplinemain.ipynb\" target=\"_parent\"><img src=\"https://colab.research.google.com/assets/colab-badge.svg\" alt=\"Open In Colab\"/></a>"
      ]
    },
    {
      "cell_type": "code",
      "source": [
        "from google.colab import drive\n",
        "\n",
        "drive.mount('/content/drive')"
      ],
      "metadata": {
        "id": "GELk_Ro75cKm"
      },
      "execution_count": null,
      "outputs": []
    },
    {
      "cell_type": "markdown",
      "source": [
        "**STEP-1 DATA PROCESSING **\n",
        "\n",
        "*   List item\n",
        "*   List item\n",
        "\n"
      ],
      "metadata": {
        "id": "mBVEinwD5vJv"
      }
    },
    {
      "cell_type": "code",
      "execution_count": null,
      "metadata": {
        "id": "hJsZH6VQ2moM"
      },
      "outputs": [],
      "source": [
        "import numpy as np\n",
        "import tensorflow as tf\n",
        "from tensorflow.keras.preprocessing.text import Tokenizer\n",
        "from tensorflow.keras.preprocessing.sequence import pad_sequences\n",
        "from sklearn.model_selection import train_test_split\n",
        "\n",
        "# Mount Google Drive to access files\n",
        "\n",
        "# Read pickup lines from a text file\n",
        "pickup_lines_file = '/content/sample_data/newAllPickupline2.txt'\n",
        "\n",
        "with open(pickup_lines_file, \"r\", encoding=\"utf-8\") as file:\n",
        "    pickup_lines = file.readlines()\n",
        "\n",
        "# Tokenization\n",
        "tokenizer = Tokenizer()\n",
        "tokenizer.fit_on_texts(pickup_lines)\n",
        "total_words = len(tokenizer.word_index) + 1\n",
        "\n",
        "# Convert text sequences to numerical sequences\n",
        "input_sequences = []\n",
        "for line in pickup_lines:\n",
        "    token_list = tokenizer.texts_to_sequences([line])[0]\n",
        "    for i in range(1, len(token_list)):\n",
        "        n_gram_sequence = token_list[:i+1]\n",
        "        input_sequences.append(n_gram_sequence)\n",
        "\n",
        "# Padding sequences\n",
        "max_sequence_len = max([len(x) for x in input_sequences])\n",
        "input_sequences = np.array(pad_sequences(input_sequences, maxlen=max_sequence_len, padding='pre'))\n",
        "\n",
        "# Creating predictors and labels\n",
        "X, y = input_sequences[:,:-1],input_sequences[:,-1]\n",
        "y = tf.keras.utils.to_categorical(y, num_classes=total_words)\n",
        "\n",
        "# Splitting the dataset into training and validation sets\n",
        "# Splitting the dataset into training and validation sets\n",
        "X_train, X_val, y_train, y_val = train_test_split(X, y, test_size=0.3, random_state=42)\n"
      ]
    },
    {
      "cell_type": "markdown",
      "source": [
        "** Step 2: Model Selection **"
      ],
      "metadata": {
        "id": "TFmKCHR357Vx"
      }
    },
    {
      "cell_type": "code",
      "source": [
        "from tensorflow.keras.models import Sequential\n",
        "from tensorflow.keras.layers import Embedding, LSTM, Dense\n",
        "\n",
        "# Model architecture\n",
        "model = Sequential()\n",
        "model.add(Embedding(total_words, 550, input_length=max_sequence_len-1))\n",
        "model.add(LSTM(150))\n",
        "model.add(Dense(total_words, activation='softmax'))\n",
        "\n",
        "model.compile(loss='categorical_crossentropy', optimizer='adam', metrics=['accuracy'])\n"
      ],
      "metadata": {
        "id": "1YuTP9PP4PPv"
      },
      "execution_count": null,
      "outputs": []
    },
    {
      "cell_type": "markdown",
      "source": [
        "**Step 3: Model Training**\n",
        "\n",
        ">\n",
        "\n",
        "> Add blockquote\n",
        "\n",
        "\n",
        "\n"
      ],
      "metadata": {
        "id": "kLSYhNKf6Qf6"
      }
    },
    {
      "cell_type": "code",
      "source": [
        "# Training the model\n",
        "history = model.fit(X_train, y_train, epochs=10, validation_data=(X_val, y_val), verbose=1)\n"
      ],
      "metadata": {
        "id": "8nwqk8tk6Jpn"
      },
      "execution_count": null,
      "outputs": []
    },
    {
      "cell_type": "markdown",
      "source": [
        "**Step 4: Fine-tuning**"
      ],
      "metadata": {
        "id": "kUVzw-uw9O79"
      }
    },
    {
      "cell_type": "markdown",
      "source": [],
      "metadata": {
        "id": "woJIx01o7fqI"
      }
    },
    {
      "cell_type": "code",
      "source": [
        "# Evaluate model on validation set\n",
        "loss, accuracy = model.evaluate(X_val, y_val)\n",
        "print(\"Validation Loss:\", loss)\n",
        "print(\"Validation Accuracy:\", accuracy)\n"
      ],
      "metadata": {
        "id": "gjBWfBmS6YAl"
      },
      "execution_count": null,
      "outputs": []
    },
    {
      "cell_type": "code",
      "source": [
        "import matplotlib.pyplot as plt\n",
        "\n",
        "# Plot training and validation loss\n",
        "plt.plot(history.history['loss'], label='Training Loss')\n",
        "plt.plot(history.history['val_loss'], label='Validation Loss')\n",
        "plt.xlabel('Epoch')\n",
        "plt.ylabel('Loss')\n",
        "plt.legend()\n",
        "plt.show()\n",
        "\n",
        "# Plot training and validation accuracy\n",
        "plt.plot(history.history['accuracy'], label='Training Accuracy')\n",
        "plt.plot(history.history['val_accuracy'], label='Validation Accuracy')\n",
        "plt.xlabel('Epoch')\n",
        "plt.ylabel('Accuracy')\n",
        "plt.legend()\n",
        "plt.show()\n"
      ],
      "metadata": {
        "id": "eXbxb5Rw9WS_"
      },
      "execution_count": null,
      "outputs": []
    },
    {
      "cell_type": "code",
      "source": [],
      "metadata": {
        "id": "f0o-UdH3q1r0"
      },
      "execution_count": null,
      "outputs": []
    },
    {
      "cell_type": "code",
      "source": [
        "def generate_pickup_line(seed_text):\n",
        "    if seed_text.startswith(\"name\"):\n",
        "        pickup_line = \"My name is Pickupwit\"\n",
        "    else:\n",
        "        pickup_line = seed_text\n",
        "        word_count = 0\n",
        "        while True:\n",
        "            token_list = tokenizer.texts_to_sequences([pickup_line])[0]\n",
        "            token_list = pad_sequences([token_list], maxlen=max_sequence_len-1, padding='pre')\n",
        "            predicted_probs = model.predict(token_list, verbose=0)[0]\n",
        "            predicted_index = np.argmax(predicted_probs)\n",
        "            output_word = \"\"\n",
        "            for word, index in tokenizer.word_index.items():\n",
        "                if index == predicted_index:\n",
        "                    output_word = word\n",
        "                    break\n",
        "            pickup_line += \" \" + output_word\n",
        "            word_count += 1\n",
        "            # Check if the output word is a punctuation mark or if the pickup line exceeds the desired length\n",
        "            if output_word in [\".\", \"!\", \"?\"] or word_count >= 15:\n",
        "                break\n",
        "    return pickup_line\n",
        "\n",
        "# Loop for generating pickup lines\n",
        "while True:\n",
        "    user_input = input(\"Enter a single word or place name (type 'exit' to quit): \").lower()\n",
        "\n",
        "    if user_input == \"exit\":\n",
        "        print(\"Goodbye!\")\n",
        "        break\n",
        "\n",
        "    generated_line = generate_pickup_line(user_input)\n",
        "    print(\"Generated Pickup Line:\", generated_line)\n"
      ],
      "metadata": {
        "id": "Zw8fbq7I-Fi4"
      },
      "execution_count": null,
      "outputs": []
    },
    {
      "cell_type": "code",
      "source": [],
      "metadata": {
        "id": "sPeOBVBqIi4Q"
      },
      "execution_count": null,
      "outputs": []
    },
    {
      "cell_type": "code",
      "source": [
        "import torch\n",
        "from transformers import GPT2LMHeadModel, GPT2Tokenizer, AdamW\n",
        "from torch.utils.data import Dataset, DataLoader\n",
        "from torch.nn.utils.rnn import pad_sequence\n",
        "\n",
        "# Define your dataset\n",
        "class PickupLinesDataset(Dataset):\n",
        "    def __init__(self, pickup_lines, tokenizer, max_length):\n",
        "        self.pickup_lines = pickup_lines\n",
        "        self.tokenizer = tokenizer\n",
        "        self.max_length = max_length\n",
        "\n",
        "    def __len__(self):\n",
        "        return len(self.pickup_lines)\n",
        "\n",
        "    def __getitem__(self, idx):\n",
        "        text = self.pickup_lines[idx]\n",
        "        input_ids = self.tokenizer.encode(text, add_special_tokens=True, max_length=self.max_length, truncation=True)\n",
        "        return torch.tensor(input_ids, dtype=torch.long)\n",
        "\n",
        "# Load pre-trained GPT-2 model and tokenizer\n",
        "tokenizer = GPT2Tokenizer.from_pretrained('gpt2')\n",
        "model = GPT2LMHeadModel.from_pretrained('gpt2')\n",
        "\n",
        "# Read pickup lines from file\n",
        "pickup_lines_file = '/content/sample_data/newAllPickupline2.txt'\n",
        "with open(pickup_lines_file, \"r\", encoding=\"utf-8\") as file:\n",
        "    pickup_lines = file.readlines()\n",
        "\n",
        "# Prepare dataset and dataloader\n",
        "max_length = 50  # Adjust max_length as needed\n",
        "dataset = PickupLinesDataset(pickup_lines, tokenizer, max_length)\n",
        "\n",
        "# Get the padding token ID\n",
        "padding_token_id = tokenizer.pad_token_id if tokenizer.pad_token_id is not None else 0  # Default to 0 if padding token ID is not available\n",
        "\n",
        "dataloader = DataLoader(dataset, batch_size=4, shuffle=True, collate_fn=lambda x: pad_sequence(x, batch_first=True, padding_value=padding_token_id))\n",
        "\n",
        "# Fine-tuning parameters\n",
        "num_epochs = 3\n",
        "learning_rate = 5e-5\n",
        "\n",
        "# Define optimizer\n",
        "optimizer = AdamW(model.parameters(), lr=learning_rate)\n",
        "\n",
        "# Fine-tune the model\n",
        "device = torch.device('cuda' if torch.cuda.is_available() else 'cpu')\n",
        "model.to(device)\n",
        "model.train()\n",
        "\n",
        "for epoch in range(num_epochs):\n",
        "    for batch in dataloader:\n",
        "        batch = batch.to(device)\n",
        "        outputs = model(input_ids=batch, labels=batch)\n",
        "        loss = outputs.loss\n",
        "\n",
        "        optimizer.zero_grad()\n",
        "        loss.backward()\n",
        "        optimizer.step()\n",
        "\n",
        "        print(f'Epoch [{epoch+1}/{num_epochs}], Loss: {loss.item()}')\n",
        "\n",
        "# Save the fine-tuned model\n",
        "output_dir = './fine_tuned_gpt2_pickup_lines/'\n",
        "model.save_pretrained(output_dir)\n",
        "tokenizer.save_pretrained(output_dir)\n"
      ],
      "metadata": {
        "id": "sXuXhXrw-YzD"
      },
      "execution_count": null,
      "outputs": []
    },
    {
      "cell_type": "code",
      "source": [],
      "metadata": {
        "id": "lSMmbnh2IkDe"
      },
      "execution_count": null,
      "outputs": []
    },
    {
      "cell_type": "code",
      "source": [],
      "metadata": {
        "id": "wMxC5LIxbdDc"
      },
      "execution_count": null,
      "outputs": []
    }
  ]
}